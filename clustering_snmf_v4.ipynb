{
 "cells": [
  {
   "cell_type": "code",
   "execution_count": 1,
   "metadata": {},
   "outputs": [],
   "source": [
    "import random\n",
    "import numpy as np\n",
    "import matplotlib.pyplot as plt\n",
    "np.random.seed(1)"
   ]
  },
  {
   "cell_type": "code",
   "execution_count": 2,
   "metadata": {},
   "outputs": [],
   "source": [
    "# We generated a test dataset by sampling from three Gaussians (100 data points each) \n",
    "# centered at randomly chosen locations, [(-0.0985, -0.3379), (-0.6325, 0.9322), (1.1078, 1.0856)], \n",
    "# with identical covariance matrices 0.04I2, Fig. 3A. \n",
    "# Then, we applied Algorithm 1 with the regularization coefficient, lambda = 0.6 \n",
    "# and found that it correctly clustered the data, Fig. 3A"
   ]
  },
  {
   "cell_type": "code",
   "execution_count": 11,
   "metadata": {},
   "outputs": [],
   "source": [
    "# Step 1: Generate 3 Gaussians with the given centers & covariances \n",
    "x0 = np.random.multivariate_normal(mean = [-0.0985, -0.3379], cov = [[0.04, 0], [0, 0.04]], size = 100)\n",
    "x1 = np.random.multivariate_normal(mean = [-0.6325, 0.9322], cov = [[0.04, 0], [0, 0.04]], size = 100)\n",
    "x2 = np.random.multivariate_normal(mean = [1.1078, 1.0856], cov = [[0.04, 0], [0, 0.04]], size = 100)\n",
    "\n",
    "y0 = []\n",
    "y1 = []\n",
    "y2 = []\n",
    "for i in range(0,100):\n",
    "    y0.append([0])\n",
    "    y1.append([1])\n",
    "    y2.append([2])\n",
    "\n",
    "X = np.vstack([x0, x1, x2])\n",
    "y = np.vstack([y0, y1, y2])\n",
    "\n",
    "indices = np.arange(len(X))\n",
    "np.random.shuffle(indices)\n",
    "X = X[indices]\n",
    "y = y[indices]\n",
    "y = y.flatten()"
   ]
  },
  {
   "cell_type": "code",
   "execution_count": 31,
   "metadata": {},
   "outputs": [],
   "source": [
    "np.random.seed(10)\n",
    "x0 = np.random.normal(0.0, 1.0, [100, 2]) * np.sqrt(0.04) + [-0.0985, -0.3379] # (100, 2)\n",
    "x1 = np.random.normal(0.0, 1.0, [100, 2]) * np.sqrt(0.04) + [-0.6325,  0.9322] # (100, 2)\n",
    "x2 = np.random.normal(0.0, 1.0, [100, 2]) * np.sqrt(0.04) + [1.1078,   1.0856] # (100, 2)\n",
    "\n",
    "y0 = np.array([0] * 100, dtype=np.int32)\n",
    "y1 = np.array([1] * 100, dtype=np.int32)\n",
    "y2 = np.array([2] * 100, dtype=np.int32)\n",
    "\n",
    "X = np.vstack([x0, x1, x2]) # 300, 2\n",
    "c = np.hstack([y0, y1, y2]) # 300\n",
    "\n",
    "indices = np.arange(len(X))\n",
    "np.random.shuffle(indices)\n",
    "\n",
    "X = X[indices]\n",
    "c = c[indices]"
   ]
  },
  {
   "cell_type": "code",
   "execution_count": 32,
   "metadata": {},
   "outputs": [],
   "source": [
    "# Sanity Checking y\n",
    "# y"
   ]
  },
  {
   "cell_type": "code",
   "execution_count": 33,
   "metadata": {},
   "outputs": [
    {
     "data": {
      "image/png": "[encoded data removed]",
      "text/plain": [
       "<Figure size 360x360 with 1 Axes>"
      ]
     },
     "metadata": {
      "needs_background": "light"
     },
     "output_type": "display_data"
    }
   ],
   "source": [
    "plt.figure(figsize=(5, 5))\n",
    "plt.scatter(X[:,0], X[:,1])\n",
    "plt.show()"
   ]
  },
  {
   "cell_type": "code",
   "execution_count": 34,
   "metadata": {},
   "outputs": [],
   "source": [
    "# Implement equation 5 (dependency in algorithm)\n",
    "def adjust_weights(x_t, y_t, index, lamda = 0.6):\n",
    "    #print(\"Using equation 5\")\n",
    "    x_squared_norm = np.linalg.norm(x_t)**2\n",
    "    y_squared = y_t * y_t\n",
    "    #print(y_t.shape)\n",
    "    \n",
    "    test_condition = (x_squared_norm - np.sum(y_squared) + y_squared[index])\n",
    "    \n",
    "    if((test_condition ** 2) <= lamda):\n",
    "        return 0\n",
    "    else:\n",
    "        if(test_condition < 0):\n",
    "            return 0\n",
    "        else:\n",
    "            return np.sqrt(test_condition)\n",
    "    "
   ]
  },
  {
   "cell_type": "code",
   "execution_count": 35,
   "metadata": {},
   "outputs": [],
   "source": [
    "# Implement equation 8 (dependency in algorithm)\n",
    "def update_weights(W, M, x_t, y_t, y_hat):\n",
    "    #y_hat += (y_t * y_t)\n",
    "    #print(\"Using equation 8\")\n",
    "    y_dim = y_t.shape[0]\n",
    "    \n",
    "    x_t = x_t[np.newaxis, :]\n",
    "    y_t = y_t[:, np.newaxis]\n",
    "    \n",
    "    dW = y_t @ (x_t - (W.T @ y_t).T)\n",
    "    \n",
    "    \n",
    "    for i in range(ydim):\n",
    "        if(y_hat[i] !=0):\n",
    "            W[i] = W[i] + dW[i] / y_hat[i]\n",
    "    \n",
    "    dM = y_t @ (y_t.T - (M @ y_t).T)\n",
    "    for i in range(M.shape[0]):\n",
    "        dM[i][i] = 0\n",
    "    \n",
    "    for i in range(ydim):\n",
    "        if(y_hat[i] !=0):\n",
    "            M[i] = M[i] + dM[i] / y_hat[i]\n",
    "    \n",
    "    "
   ]
  },
  {
   "cell_type": "markdown",
   "metadata": {},
   "source": [
    "Algorithm 1: Online SNMF <br>\n",
    "Start with the empty active set {}, W’ = 0 and M = 0. <br> \n",
    "For each T=1...Tf\n",
    "    1. Initialize yT = 0.\n",
    "    2. Receive xT.\n",
    "    3. For each degree of freedom in the active set {i}\n",
    "    compute yT ,i = maxWT ,i xT  MT ,i yT ,0iterating\n",
    "    until convergence.\n",
    "    4. If required by (5) add another degree of freedom to\n",
    "    the active set {i}.\n",
    "    5. Output yT.\n",
    "    6. Update “synaptic connections” W’ and M\n",
    "    according to (8)."
   ]
  },
  {
   "cell_type": "code",
   "execution_count": 36,
   "metadata": {},
   "outputs": [
    {
     "name": "stdout",
     "output_type": "stream",
     "text": [
      "[0]\n",
      "[0]\n",
      "[0]\n",
      "[0]\n",
      "[0]\n",
      "[0]\n",
      "[0]\n",
      "[0]\n",
      "[0, 1]\n",
      "[0, 1]\n",
      "[0, 1]\n",
      "[0, 1]\n",
      "[0, 1]\n",
      "[0, 1]\n",
      "[0, 1]\n",
      "[0, 1]\n",
      "[0, 1]\n",
      "[0, 1]\n",
      "[0, 1]\n",
      "[0, 1]\n",
      "[0, 1]\n",
      "[0, 1]\n",
      "[0, 1]\n",
      "[0, 1]\n",
      "[0, 1]\n",
      "[0, 1]\n",
      "[0, 1]\n",
      "[0, 1]\n",
      "[0, 1]\n",
      "[0, 1]\n",
      "[0, 1]\n",
      "[0, 1]\n",
      "[0, 1]\n",
      "[0, 1]\n",
      "[0, 1]\n",
      "[0, 1]\n",
      "[0, 1, 2]\n",
      "[0, 1, 2]\n",
      "[0, 1, 2]\n",
      "[0, 1, 2]\n",
      "[0, 1, 2]\n",
      "[0, 1, 2]\n",
      "[0, 1, 2]\n",
      "[0, 1, 2]\n",
      "[0, 1, 2]\n",
      "[0, 1, 2]\n",
      "[0, 1, 2]\n",
      "[0, 1, 2]\n",
      "[0, 1, 2]\n",
      "[0, 1, 2]\n",
      "[0, 1, 2]\n",
      "[0, 1, 2]\n",
      "[0, 1, 2]\n",
      "[0, 1, 2]\n",
      "[0, 1, 2]\n",
      "[0, 1, 2]\n",
      "[0, 1, 2]\n",
      "[0, 1, 2]\n",
      "[0, 1, 2]\n",
      "[0, 1, 2]\n",
      "[0, 1, 2]\n",
      "[0, 1, 2]\n",
      "[0, 1, 2]\n",
      "[0, 1, 2]\n",
      "[0, 1, 2]\n",
      "[0, 1, 2]\n",
      "[0, 1, 2]\n",
      "[0, 1, 2]\n",
      "[0, 1, 2]\n",
      "[0, 1, 2]\n",
      "[0, 1, 2]\n",
      "[0, 1, 2]\n",
      "[0, 1, 2]\n",
      "[0, 1, 2]\n",
      "[0, 1, 2]\n",
      "[0, 1, 2]\n",
      "[0, 1, 2]\n",
      "[0, 1, 2]\n",
      "[0, 1, 2]\n",
      "[0, 1, 2]\n",
      "[0, 1, 2]\n",
      "[0, 1, 2]\n",
      "[0, 1, 2]\n",
      "[0, 1, 2]\n",
      "[0, 1, 2]\n",
      "[0, 1, 2]\n",
      "[0, 1, 2]\n",
      "[0, 1, 2]\n",
      "[0, 1, 2]\n",
      "[0, 1, 2]\n",
      "[0, 1, 2]\n",
      "[0, 1, 2]\n",
      "[0, 1, 2]\n",
      "[0, 1, 2]\n",
      "[0, 1, 2]\n",
      "[0, 1, 2]\n",
      "[0, 1, 2]\n",
      "[0, 1, 2]\n",
      "[0, 1, 2]\n",
      "[0, 1, 2]\n",
      "[0, 1, 2]\n",
      "[0, 1, 2]\n",
      "[0, 1, 2]\n",
      "[0, 1, 2]\n",
      "[0, 1, 2]\n",
      "[0, 1, 2]\n",
      "[0, 1, 2]\n",
      "[0, 1, 2]\n",
      "[0, 1, 2]\n",
      "[0, 1, 2]\n",
      "[0, 1, 2]\n",
      "[0, 1, 2]\n",
      "[0, 1, 2]\n",
      "[0, 1, 2]\n",
      "[0, 1, 2]\n",
      "[0, 1, 2]\n",
      "[0, 1, 2]\n",
      "[0, 1, 2]\n",
      "[0, 1, 2]\n",
      "[0, 1, 2]\n",
      "[0, 1, 2]\n",
      "[0, 1, 2]\n",
      "[0, 1, 2]\n",
      "[0, 1, 2]\n",
      "[0, 1, 2]\n",
      "[0, 1, 2]\n",
      "[0, 1, 2]\n",
      "[0, 1, 2]\n",
      "[0, 1, 2]\n",
      "[0, 1, 2]\n",
      "[0, 1, 2]\n",
      "[0, 1, 2]\n",
      "[0, 1, 2]\n",
      "[0, 1, 2]\n",
      "[0, 1, 2]\n",
      "[0, 1, 2]\n",
      "[0, 1, 2]\n",
      "[0, 1, 2]\n",
      "[0, 1, 2]\n",
      "[0, 1, 2]\n",
      "[0, 1, 2]\n",
      "[0, 1, 2]\n",
      "[0, 1, 2]\n",
      "[0, 1, 2]\n",
      "[0, 1, 2]\n",
      "[0, 1, 2]\n",
      "[0, 1, 2]\n",
      "[0, 1, 2]\n",
      "[0, 1, 2]\n",
      "[0, 1, 2]\n",
      "[0, 1, 2]\n",
      "[0, 1, 2]\n",
      "[0, 1, 2]\n",
      "[0, 1, 2]\n",
      "[0, 1, 2]\n",
      "[0, 1, 2]\n",
      "[0, 1, 2]\n",
      "[0, 1, 2]\n",
      "[0, 1, 2]\n",
      "[0, 1, 2]\n",
      "[0, 1, 2]\n",
      "[0, 1, 2]\n",
      "[0, 1, 2]\n",
      "[0, 1, 2]\n",
      "[0, 1, 2]\n",
      "[0, 1, 2]\n",
      "[0, 1, 2]\n",
      "[0, 1, 2]\n",
      "[0, 1, 2]\n",
      "[0, 1, 2]\n",
      "[0, 1, 2]\n",
      "[0, 1, 2]\n",
      "[0, 1, 2]\n",
      "[0, 1, 2]\n",
      "[0, 1, 2]\n",
      "[0, 1, 2]\n",
      "[0, 1, 2]\n",
      "[0, 1, 2]\n",
      "[0, 1, 2]\n",
      "[0, 1, 2]\n",
      "[0, 1, 2]\n",
      "[0, 1, 2]\n",
      "[0, 1, 2]\n",
      "[0, 1, 2]\n",
      "[0, 1, 2]\n",
      "[0, 1, 2]\n",
      "[0, 1, 2]\n",
      "[0, 1, 2]\n",
      "[0, 1, 2]\n",
      "[0, 1, 2]\n",
      "[0, 1, 2]\n",
      "[0, 1, 2]\n",
      "[0, 1, 2]\n",
      "[0, 1, 2]\n",
      "[0, 1, 2]\n",
      "[0, 1, 2]\n",
      "[0, 1, 2]\n",
      "[0, 1, 2]\n",
      "[0, 1, 2]\n",
      "[0, 1, 2]\n",
      "[0, 1, 2]\n",
      "[0, 1, 2]\n",
      "[0, 1, 2]\n",
      "[0, 1, 2]\n",
      "[0, 1, 2]\n",
      "[0, 1, 2]\n",
      "[0, 1, 2]\n",
      "[0, 1, 2]\n",
      "[0, 1, 2]\n",
      "[0, 1, 2]\n",
      "[0, 1, 2]\n",
      "[0, 1, 2]\n",
      "[0, 1, 2]\n",
      "[0, 1, 2]\n",
      "[0, 1, 2]\n",
      "[0, 1, 2]\n",
      "[0, 1, 2]\n",
      "[0, 1, 2]\n",
      "[0, 1, 2]\n",
      "[0, 1, 2]\n",
      "[0, 1, 2]\n",
      "[0, 1, 2]\n",
      "[0, 1, 2]\n",
      "[0, 1, 2]\n",
      "[0, 1, 2]\n",
      "[0, 1, 2]\n",
      "[0, 1, 2]\n",
      "[0, 1, 2]\n",
      "[0, 1, 2]\n",
      "[0, 1, 2]\n",
      "[0, 1, 2]\n",
      "[0, 1, 2]\n",
      "[0, 1, 2]\n",
      "[0, 1, 2]\n",
      "[0, 1, 2]\n",
      "[0, 1, 2]\n",
      "[0, 1, 2]\n",
      "[0, 1, 2]\n",
      "[0, 1, 2]\n",
      "[0, 1, 2]\n",
      "[0, 1, 2]\n",
      "[0, 1, 2]\n",
      "[0, 1, 2]\n",
      "[0, 1, 2]\n",
      "[0, 1, 2]\n",
      "[0, 1, 2]\n",
      "[0, 1, 2]\n",
      "[0, 1, 2]\n",
      "[0, 1, 2]\n",
      "[0, 1, 2]\n",
      "[0, 1, 2]\n",
      "[0, 1, 2]\n",
      "[0, 1, 2]\n",
      "[0, 1, 2]\n",
      "[0, 1, 2]\n",
      "[0, 1, 2]\n",
      "[0, 1, 2]\n",
      "[0, 1, 2]\n",
      "[0, 1, 2]\n",
      "[0, 1, 2]\n",
      "[0, 1, 2]\n",
      "[0, 1, 2]\n",
      "[0, 1, 2]\n",
      "[0, 1, 2]\n",
      "[0, 1, 2]\n",
      "[0, 1, 2]\n",
      "[0, 1, 2]\n",
      "[0, 1, 2]\n",
      "[0, 1, 2]\n",
      "[0, 1, 2]\n",
      "[0, 1, 2]\n",
      "[0, 1, 2]\n",
      "[0, 1, 2]\n",
      "[0, 1, 2]\n",
      "[0, 1, 2]\n",
      "[0, 1, 2]\n",
      "[0, 1, 2]\n",
      "[0, 1, 2]\n",
      "[0, 1, 2]\n",
      "[0, 1, 2]\n",
      "[0, 1, 2]\n",
      "[0, 1, 2]\n",
      "[0, 1, 2]\n",
      "[0, 1, 2]\n",
      "[0, 1, 2]\n",
      "[0, 1, 2]\n",
      "[0, 1, 2]\n",
      "[0, 1, 2]\n",
      "[0, 1, 2]\n",
      "[0, 1, 2]\n",
      "[0, 1, 2]\n",
      "[0, 1, 2]\n",
      "[0, 1, 2]\n",
      "[0, 1, 2]\n",
      "[0, 1, 2]\n",
      "[0, 1, 2]\n",
      "[0, 1, 2]\n",
      "[0, 1, 2]\n",
      "[0, 1, 2]\n",
      "[0, 1, 2]\n"
     ]
    }
   ],
   "source": [
    "T = X.shape[0]\n",
    "ydim = 3 #From the SNMF Ref. code -- perhaps for number of classes? \n",
    "active_set = []\n",
    "ith_degree_used = np.zeros(ydim)\n",
    "W = np.zeros((ydim, X.shape[1]))\n",
    "M = np.zeros((ydim, ydim))\n",
    "\n",
    "y_hat = np.zeros(ydim) \n",
    "\n",
    "clusters = []\n",
    "\n",
    "iterations = 100\n",
    "\n",
    "for t in range(T): \n",
    "    x_t = X[t] \n",
    "    y_t = np.zeros(ydim) \n",
    "    #One-hot encoded (sort of - soft encoding not binary) \n",
    "    #  element Yt,i is non-zero if sample t is attributed to cluster i. --Quote from paper\n",
    "    #Should scaling factor from eqn 3 be included? \n",
    "    for i in active_set:\n",
    "        #Iterate till convergence -- convergence criteria not mentioned in paper for this algorithm\n",
    "        #Ref. Code takes it as 100 steps? \n",
    "        for itr in range(iterations): \n",
    "            y_ti = max(0, (W[i] @ x_t - M[i] @ y_t))\n",
    "        y_t[i] = y_ti\n",
    "        \n",
    "#     for j in range(ydim):\n",
    "#         if ith_degree_used[j] == 0:\n",
    "#             y_t[j] = adjust_weights(x_t, y_t, j)\n",
    "                \n",
    "#     for j in range(ydim):\n",
    "#         if y_t[j] != 0.0:\n",
    "#             ith_degree_used[j] += 1\n",
    "            \n",
    "#     for j in range(ydim):\n",
    "#         if (j not in active_set) and ith_degree_used[j] > 0:\n",
    "#             active_set.append(j)\n",
    "        \n",
    "    \n",
    "    \n",
    "    for j in range(ydim):\n",
    "        if ith_degree_used[j] == 0:\n",
    "            y_t[j] = adjust_weights(x_t, y_t, j)\n",
    "            #y_t[j] = adjust_y_i(y_t, x_t, j)\n",
    "            \n",
    "    for j in range(ydim):\n",
    "        #Check all degrees of freedom\n",
    "        #So far, this degree of freedom has not been used, then adjust weights by eqn 5;\n",
    "        if(ith_degree_used[j] == 0):  \n",
    "            y_t[j] = adjust_weights(x_t, y_t, j)\n",
    "            #y_t[j] = adjust_y_i(y_t, x_t, j)\n",
    "            #active_set.append(j)\n",
    "        if(y_t[j]!=0):\n",
    "            ith_degree_used[j] = ith_degree_used[j] + 1\n",
    "        if(j not in active_set and ith_degree_used[j] > 0):\n",
    "                active_set.append(j)\n",
    "    \n",
    "    print(active_set)\n",
    "    #Now, update weights as per eqn 8\n",
    "    y_hat = y_hat + y_t * y_t #DIFFERENT FROM ORIGINAL IMPLEMENTATION but makes sense to me? \n",
    "    #update_weight(W, M, x_t, y_t, y_hat)\n",
    "    update_weights(W, M, x_t, y_t, y_hat)\n",
    "      \n",
    "    cluster = np.argmax(y_t)\n",
    "    #if(cluster == 2):\n",
    "    #    print(i+1)\n",
    "    #print(cluster)\n",
    "    clusters.append(cluster)"
   ]
  },
  {
   "cell_type": "code",
   "execution_count": 37,
   "metadata": {},
   "outputs": [
    {
     "data": {
      "image/png": "[encoded data removed]",
      "text/plain": [
       "<Figure size 360x360 with 1 Axes>"
      ]
     },
     "metadata": {
      "needs_background": "light"
     },
     "output_type": "display_data"
    }
   ],
   "source": [
    "plt.figure(figsize=(5, 5))\n",
    "plt.scatter(X[:,0], X[:,1], c=clusters)\n",
    "plt.show()"
   ]
  },
  {
   "cell_type": "code",
   "execution_count": null,
   "metadata": {},
   "outputs": [],
   "source": []
  },
  {
   "cell_type": "code",
   "execution_count": null,
   "metadata": {},
   "outputs": [],
   "source": []
  },
  {
   "cell_type": "code",
   "execution_count": null,
   "metadata": {},
   "outputs": [],
   "source": []
  },
  {
   "cell_type": "code",
   "execution_count": null,
   "metadata": {},
   "outputs": [],
   "source": [
    "W.T.shape"
   ]
  },
  {
   "cell_type": "code",
   "execution_count": null,
   "metadata": {},
   "outputs": [],
   "source": [
    "x_t.shape"
   ]
  },
  {
   "cell_type": "code",
   "execution_count": null,
   "metadata": {},
   "outputs": [],
   "source": [
    "y_t.shape"
   ]
  },
  {
   "cell_type": "code",
   "execution_count": null,
   "metadata": {},
   "outputs": [],
   "source": [
    "W.T"
   ]
  },
  {
   "cell_type": "code",
   "execution_count": null,
   "metadata": {},
   "outputs": [],
   "source": [
    "x_t[np.newaxis,:].shape"
   ]
  },
  {
   "cell_type": "code",
   "execution_count": null,
   "metadata": {},
   "outputs": [],
   "source": [
    "x_t"
   ]
  },
  {
   "cell_type": "code",
   "execution_count": null,
   "metadata": {},
   "outputs": [],
   "source": [
    "x_t.shape"
   ]
  },
  {
   "cell_type": "code",
   "execution_count": null,
   "metadata": {},
   "outputs": [],
   "source": [
    "    x_t = x_t[np.newaxis, :]\n",
    "    y_t = y_t[:, np.newaxis]"
   ]
  },
  {
   "cell_type": "code",
   "execution_count": null,
   "metadata": {},
   "outputs": [],
   "source": [
    "y_t@(M@y_t).T"
   ]
  },
  {
   "cell_type": "code",
   "execution_count": null,
   "metadata": {},
   "outputs": [],
   "source": [
    "x_t.shape"
   ]
  },
  {
   "cell_type": "code",
   "execution_count": null,
   "metadata": {},
   "outputs": [],
   "source": [
    "y_t.shape"
   ]
  },
  {
   "cell_type": "code",
   "execution_count": null,
   "metadata": {},
   "outputs": [],
   "source": [
    "W.shape"
   ]
  },
  {
   "cell_type": "code",
   "execution_count": null,
   "metadata": {},
   "outputs": [],
   "source": [
    "W.T.shape"
   ]
  },
  {
   "cell_type": "code",
   "execution_count": null,
   "metadata": {},
   "outputs": [],
   "source": [
    "W.T @ y_t"
   ]
  },
  {
   "cell_type": "code",
   "execution_count": null,
   "metadata": {},
   "outputs": [],
   "source": [
    "y_t @ x_t"
   ]
  },
  {
   "cell_type": "code",
   "execution_count": null,
   "metadata": {},
   "outputs": [],
   "source": [
    "y_t @ W.T @ y_t"
   ]
  },
  {
   "cell_type": "code",
   "execution_count": null,
   "metadata": {},
   "outputs": [],
   "source": [
    "y_t.shape"
   ]
  },
  {
   "cell_type": "code",
   "execution_count": null,
   "metadata": {},
   "outputs": [],
   "source": [
    "W.T.shape"
   ]
  },
  {
   "cell_type": "code",
   "execution_count": null,
   "metadata": {},
   "outputs": [],
   "source": [
    "dW.shape"
   ]
  },
  {
   "cell_type": "code",
   "execution_count": null,
   "metadata": {},
   "outputs": [],
   "source": [
    "y_t"
   ]
  },
  {
   "cell_type": "code",
   "execution_count": null,
   "metadata": {},
   "outputs": [],
   "source": []
  }
 ],
 "metadata": {
  "kernelspec": {
   "display_name": "Python 3",
   "language": "python",
   "name": "python3"
  },
  "language_info": {
   "codemirror_mode": {
    "name": "ipython",
    "version": 3
   },
   "file_extension": ".py",
   "mimetype": "text/x-python",
   "name": "python",
   "nbconvert_exporter": "python",
   "pygments_lexer": "ipython3",
   "version": "3.7.4"
  }
 },
 "nbformat": 4,
 "nbformat_minor": 2
}
